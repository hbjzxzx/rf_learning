{
 "cells": [
  {
   "cell_type": "markdown",
   "metadata": {},
   "source": [
    "### 首先考虑离散的 State、Action 空间组成的Q函数"
   ]
  },
  {
   "cell_type": "code",
   "execution_count": 262,
   "metadata": {},
   "outputs": [],
   "source": [
    "from collections import defaultdict\n",
    "from typing import Callable, List, Tuple, Optional\n",
    "from pathlib import Path\n",
    "\n",
    "import numpy as np\n",
    "from tqdm import tqdm\n",
    "import gymnasium as gym\n",
    "from tensorboardX import SummaryWriter\n",
    "import matplotlib.pyplot as plt\n",
    "import seaborn as sns\n",
    "\n",
    "\n",
    "State = int\n",
    "Action = int\n",
    "Reward = float\n",
    "ActionProbDistribution = List[float]\n",
    "\n",
    "class AbstractQFunc():\n",
    "    def get_value(self, state: State, action: Action) -> float:\n",
    "        raise NotImplementedError()\n",
    "    \n",
    "    def get_action_distribute(self, state: State) -> ActionProbDistribution:\n",
    "        raise NotImplementedError()\n",
    "\n",
    "    def get_actions_count(self) -> int:\n",
    "        raise NotImplementedError()\n",
    "    \n",
    "    def set_value(self, state: State, action: Action, value: float) -> None:\n",
    "        raise NotImplementedError()\n",
    "\n",
    "class DiscreteQFunc(AbstractQFunc):\n",
    "    def __init__(self, state_nums: int, action_nums: int) -> None:\n",
    "        # here use dirichlet distribution to initialize the q table\n",
    "        \n",
    "        # self._q_table = np.array([np.random.dirichlet(np.ones(action_nums)) for _ in range(state_nums)])\n",
    "        self._q_table = np.random.dirichlet(np.ones(action_nums * state_nums)).reshape(state_nums, action_nums) \n",
    "        self._state_nums = state_nums \n",
    "        self._action_nums = action_nums\n",
    "\n",
    "    def get_value(self, state, action) -> float:\n",
    "        return self._q_table[state][action]\n",
    "\n",
    "    def set_value(self, state: State, action: Action, value: float) -> None:\n",
    "        self._q_table[state][action] = value\n",
    "\n",
    "    def get_action_distribute(self, state: State) -> ActionProbDistribution:\n",
    "        return self._q_table[state]\n",
    "\n",
    "    def get_actions_count(self) -> int:\n",
    "        return self._action_nums"
   ]
  },
  {
   "cell_type": "markdown",
   "metadata": {},
   "source": [
    "### 我们定义策略函数Pi(s) = P(a | s)；策略函数实际返回一个Action空间的分布函数，在离散的情况下，我们用一个数组表示这个分布， 下面定义一组函数，用于将Q转换为对应的策略"
   ]
  },
  {
   "cell_type": "code",
   "execution_count": 207,
   "metadata": {},
   "outputs": [],
   "source": [
    "\n",
    "\n",
    "# 策略函数\n",
    "# todo: change the right type\n",
    "ActionProbDistribution = List[float]\n",
    "Strategy = Callable[[State], ActionProbDistribution]\n",
    "\n",
    "\n",
    "def to_strategy(f: AbstractQFunc) -> Strategy:\n",
    "    def _strategy(s: State) -> ActionProbDistribution:\n",
    "        x = f.get_action_distribute(s)\n",
    "        e_x = np.exp(x - np.max(x))\n",
    "        return e_x / e_x.sum()\n",
    "    return _strategy\n",
    "\n",
    "def to_strategy_epsilon_greedy(f: AbstractQFunc, epsilon: float) -> Strategy:\n",
    "    def _strategy(s: State) -> ActionProbDistribution:\n",
    "        # e-greedy 策略\n",
    "        if np.random.uniform(0, 1) > epsilon:\n",
    "            # 这里选择最优动作（没有随机性）\n",
    "            optimal_action = np.argmax(f.get_action_distribute(s))\n",
    "            # 创建一个one-hot编码的动作分布\n",
    "            action_distribution = np.zeros(f.get_actions_count(), dtype=np.float32)\n",
    "            action_distribution[optimal_action] = 1.0\n",
    "            return action_distribution\n",
    "        else:\n",
    "            # 随机选择动作 \n",
    "            return np.ones(f.get_actions_count(), dtype=np.float32) / f.get_actions_count()\n",
    "    return _strategy\n"
   ]
  },
  {
   "cell_type": "markdown",
   "metadata": {},
   "source": [
    "### 最后是训练流程，在一个环境中，首先根据当前环境进行决策，再执行动作&观察反馈，最后根据信息更新"
   ]
  },
  {
   "cell_type": "code",
   "execution_count": 64,
   "metadata": {},
   "outputs": [],
   "source": [
    "class AbstractEnv():\n",
    "    # 如果返回的State部分是None，则表示Terminal 状态\n",
    "    def step(self, action: Action) ->  Tuple[Reward, Optional[State]]: \n",
    "        raise NotImplementedError()\n",
    "    \n",
    "    def reset(self) -> State:\n",
    "        return NotImplementedError() \n",
    "    \n",
    "\n",
    "class AbstractTrainer():\n",
    "    def train(self):\n",
    "        raise NotImplementedError()\n",
    "    \n",
    "\n",
    "class AbstractTester():\n",
    "    def test(self):\n",
    "        raise NotImplementedError()\n",
    " \n",
    "    "
   ]
  },
  {
   "cell_type": "code",
   "execution_count": 247,
   "metadata": {},
   "outputs": [],
   "source": [
    "# 我们实现一个使用 epsilon-greedy 策略的Q-Learning 训练。（ps， 只针对离散的Q Learning）\n",
    "class QLearningTrainer(AbstractTrainer):\n",
    "    def __init__(self, gamma: float, learning_rate_list: List[float], epsilon_list: List[float],\n",
    "                 q_func: AbstractQFunc, env: AbstractEnv, logger_file: Optional[Path] = None):\n",
    "        self.gamma = gamma\n",
    "        self.learning_rate_list = learning_rate_list\n",
    "        self.epsilon_list = epsilon_list\n",
    "        \n",
    "        self.q_func = q_func\n",
    "        self.env = env\n",
    "        \n",
    "        self.current_state = None\n",
    "\n",
    "        self.logger = Path(\"./logs\") if logger_file is None else logger_file\n",
    "    def train(self, epoch_cnt: int, max_steps: int):\n",
    "        writer = SummaryWriter(self.logger)\n",
    "        for epoch in tqdm(range(epoch_cnt)):\n",
    "            init_state = self.env.reset()  # 回合开始前先重制环境          \n",
    "            self.current_state = init_state\n",
    "            acc_reward = 0\n",
    "            step_cnt = 0\n",
    "            # print(f'state change to: {self.current_state}')\n",
    "            for s in range(max_steps): # 复杂的环境设置最大步数，也就是Horizon\n",
    "                step_cnt += 1\n",
    "                # 获取此时Q 对应的epsilon-greedy 的策略 \n",
    "                e_greedy_s = to_strategy_epsilon_greedy(self.q_func, self.epsilon_list[epoch])\n",
    "                # 使用此时的策略进行决策\n",
    "                action_dis = e_greedy_s(self.current_state)\n",
    "                # 选择概率最大的action\n",
    "                action = np.random.choice(self.q_func.get_actions_count(), p=action_dis)\n",
    "                # 执行此时的action\n",
    "                reward, next_state = self.env.step(action)\n",
    "                acc_reward += reward\n",
    "                if next_state is None:\n",
    "                    # 达到terminal状态\n",
    "                    q_target = reward \n",
    "                else:\n",
    "                    next_optimal = np.max(self.q_func.get_action_distribute(next_state))\n",
    "                    q_target = reward + self.gamma * next_optimal \n",
    "\n",
    "                if next_state == self.current_state: \n",
    "                    q_target += -1\n",
    "                # 更新Q 函数\n",
    "                current_value = self.q_func.get_value(self.current_state, action)\n",
    "                self.q_func.set_value(self.current_state, action, \n",
    "                                       current_value + self.learning_rate_list[epoch] * (q_target - current_value)\n",
    "                                    )\n",
    "                self.current_state = next_state\n",
    "                if self.current_state is None:\n",
    "                    break\n",
    "            writer.add_scalar(\"reward\", acc_reward, epoch)\n",
    "            writer.add_scalar(\"step\", step_cnt, epoch)\n",
    "\n",
    "\n",
    "class QFuncTester(AbstractTester):\n",
    "    def __init__(self, q_func: AbstractQFunc, env: AbstractEnv) -> None:\n",
    "        self._q_func = q_func\n",
    "        self._gym_env = env\n",
    "    \n",
    "    def test(self, max_step: int, step_speed: Optional[int] = None):\n",
    "        init_state = self._gym_env.reset()  # 回合开始前先重制环境  \n",
    "        self.current_state = init_state \n",
    "        self.acc_reward = 0\n",
    "        greedy_strateggy = to_strategy(self._q_func)\n",
    "\n",
    "        for _ in range(max_step):\n",
    "            if step_speed is not None:\n",
    "                time.sleep(step_speed)\n",
    "            action_dis = greedy_strateggy(self.current_state) \n",
    "            # action = np.random.choice(self._q_func.get_actions_count(), p=action_dis)\n",
    "            action = np.argmax(action_dis)\n",
    "            # do it\n",
    "            reward, next_state = self._gym_env.step(action)\n",
    "            self.acc_reward += reward\n",
    "            if next_state is None:\n",
    "                break\n",
    "            else:\n",
    "                self.current_state = next_state\n",
    "        print(f\"Test reward: {self.acc_reward}\")\n",
    "    \n",
    "\n",
    "    def test_batch(self):\n",
    "        ...\n",
    "        "
   ]
  },
  {
   "cell_type": "code",
   "execution_count": 248,
   "metadata": {},
   "outputs": [],
   "source": [
    "class Env(AbstractEnv):\n",
    "    def __init__(self, gym_env: gym.Env):\n",
    "        self._gym_env = gym_env\n",
    "\n",
    "    def step(self, action: Action) ->  Tuple[Reward, Optional[State]]: \n",
    "        next_state, reward, is_terminated, is_truncated, _ = self._gym_env.step(action)\n",
    "        if is_terminated or is_truncated:\n",
    "            return reward, None\n",
    "        else:\n",
    "            return reward, next_state\n",
    "\n",
    "    def reset(self) -> State:\n",
    "        init_state, _ = self._gym_env.reset()\n",
    "        return init_state\n",
    "        "
   ]
  },
  {
   "cell_type": "markdown",
   "metadata": {},
   "source": [
    "### 开始使用Q-learning 训练"
   ]
  },
  {
   "cell_type": "code",
   "execution_count": 249,
   "metadata": {},
   "outputs": [
    {
     "name": "stdout",
     "output_type": "stream",
     "text": [
      "action num: 4, space num: 48\n"
     ]
    }
   ],
   "source": [
    "GYM_ENV_NAME = 'CliffWalking-v0'\n",
    "_gym_env = gym.make(GYM_ENV_NAME)\n",
    "\n",
    "action_nums, state_nums = _gym_env.action_space.n, _gym_env.observation_space.n\n",
    "print(f'action num: {action_nums}, space num: {state_nums}')\n",
    "\n",
    "TRAIN_EPOCH = 5000\n",
    "# LEARNING_RATE = 1e-2\n",
    "GAMMA = 0.9\n",
    "# EPSILON_LIST = [1.0 * 1.0/(i+1) for i in range(TRAIN_EPOCH)]\n",
    "# EPSILON_LIST = [0.05 for i in range(TRAIN_EPOCH)]\n",
    "START_EPSILON = 1.0\n",
    "END_EPSILON = 0.05\n",
    "DECAY_RATE = 0.999\n",
    "\n",
    "EPSILON_LIST = [max(START_EPSILON * (DECAY_RATE ** i), END_EPSILON) for i in range(TRAIN_EPOCH)]\n",
    "\n",
    "START_ALPHA = 0.5\n",
    "END_ALPHA = 0.02\n",
    "DECAY_RATE = 0.999\n",
    "\n",
    "LEARNING_RATE_LIST = [max(START_ALPHA * (DECAY_RATE ** i), END_ALPHA) for i in range(TRAIN_EPOCH)]\n",
    "\n",
    "\n",
    "q_func = DiscreteQFunc(state_nums=state_nums, action_nums=action_nums)\n",
    "env = Env(_gym_env)\n",
    "q_trainer = QLearningTrainer(\n",
    "    GAMMA,\n",
    "    LEARNING_RATE_LIST,\n",
    "    EPSILON_LIST,\n",
    "    q_func,\n",
    "    env\n",
    ")\n"
   ]
  },
  {
   "cell_type": "markdown",
   "metadata": {},
   "source": [
    "### 开始前，先看下我们的初始Q-Table表"
   ]
  },
  {
   "cell_type": "code",
   "execution_count": 250,
   "metadata": {},
   "outputs": [
    {
     "data": {
      "image/png": "[encoded data removed]",
      "text/plain": [
       "<Figure size 1000x800 with 2 Axes>"
      ]
     },
     "metadata": {},
     "output_type": "display_data"
    }
   ],
   "source": [
    "plt.figure(figsize=(10,8))\n",
    "sns.heatmap(q_func._q_table, cmap='viridis')\n",
    "plt.show()"
   ]
  },
  {
   "cell_type": "markdown",
   "metadata": {},
   "source": [
    "### 开始训练；可以使用 tensorboard --logdir ./logs 查看当前loss函数"
   ]
  },
  {
   "cell_type": "code",
   "execution_count": 251,
   "metadata": {},
   "outputs": [
    {
     "name": "stderr",
     "output_type": "stream",
     "text": [
      "100%|██████████| 5000/5000 [00:17<00:00, 288.08it/s]\n"
     ]
    }
   ],
   "source": [
    "q_trainer.train(epoch_cnt=TRAIN_EPOCH, max_steps=500)"
   ]
  },
  {
   "cell_type": "markdown",
   "metadata": {},
   "source": [
    "#### 结束后看下训练完成的数据"
   ]
  },
  {
   "cell_type": "code",
   "execution_count": 263,
   "metadata": {},
   "outputs": [
    {
     "data": {
      "image/png": "[encoded data removed]",
      "text/plain": [
       "<Figure size 1000x800 with 2 Axes>"
      ]
     },
     "metadata": {},
     "output_type": "display_data"
    }
   ],
   "source": [
    "plt.figure(figsize=(10,8))\n",
    "sns.heatmap(q_func._q_table, cmap='viridis')\n",
    "plt.show()"
   ]
  },
  {
   "cell_type": "markdown",
   "metadata": {},
   "source": [
    "#### 创建验证器"
   ]
  },
  {
   "cell_type": "code",
   "execution_count": 257,
   "metadata": {},
   "outputs": [],
   "source": [
    "t = QFuncTester(\n",
    "    q_func,\n",
    "    Env(gym.make(GYM_ENV_NAME, render_mode=\"human\"))\n",
    ")"
   ]
  },
  {
   "cell_type": "markdown",
   "metadata": {},
   "source": [
    "#### 开始可视化推理; 在PORTS 中默认会有6080的VNC端口转发，打开该forward port对应的web，密码vscode，即可登录GUI环境"
   ]
  },
  {
   "cell_type": "code",
   "execution_count": 264,
   "metadata": {},
   "outputs": [
    {
     "name": "stdout",
     "output_type": "stream",
     "text": [
      "Test reward: -13\n"
     ]
    }
   ],
   "source": [
    "t.test(max_step=30)"
   ]
  },
  {
   "cell_type": "code",
   "execution_count": null,
   "metadata": {},
   "outputs": [],
   "source": []
  }
 ],
 "metadata": {
  "kernelspec": {
   "display_name": "rf",
   "language": "python",
   "name": "python3"
  },
  "language_info": {
   "codemirror_mode": {
    "name": "ipython",
    "version": 3
   },
   "file_extension": ".py",
   "mimetype": "text/x-python",
   "name": "python",
   "nbconvert_exporter": "python",
   "pygments_lexer": "ipython3",
   "version": "3.12.3"
  }
 },
 "nbformat": 4,
 "nbformat_minor": 2
}
