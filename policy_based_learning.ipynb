{
 "cells": [
  {
   "cell_type": "code",
   "execution_count": null,
   "metadata": {},
   "outputs": [],
   "source": [
    "%load_ext autoreload\n",
    "%autoreload 2"
   ]
  },
  {
   "cell_type": "code",
   "execution_count": 1,
   "metadata": {},
   "outputs": [],
   "source": [
    "from pathlib import Path\n",
    "import datetime\n",
    "\n",
    "import gymnasium as gym\n",
    "import torch\n",
    "\n",
    "from policy_based import PolicyNetFunc, PolicyNetTrainer, PolicyNetTester, PolicyNetTrainerWithBase, ValueNetFunc\n",
    "from deep_q import Discrete1ContinuousAction\n",
    "from env import Env, get_action_discreter\n",
    "from utils import clear_target_path, show_gif_on_jupyternb, to_gif\n",
    "from train_test_util import start_test, start_train, StandarTestProcess, StandarTrainProcess"
   ]
  },
  {
   "cell_type": "markdown",
   "metadata": {},
   "source": [
    "### 使用CarPole-V1 环境，测试Policy-Based REINFORCE 算法"
   ]
  },
  {
   "cell_type": "code",
   "execution_count": null,
   "metadata": {},
   "outputs": [],
   "source": [
    "GYM_ENV_NAME = 'CartPole-v1'\n",
    "env = Env.from_env_name(GYM_ENV_NAME)\n",
    "RESULT_DIR_NAME='cartpoleV1'\n",
    "\n",
    "LOG_PATH = Path(f'./run/logs/{RESULT_DIR_NAME}/REINFORCE')\n",
    "MODEL_PATH = Path(f'./run/model/{RESULT_DIR_NAME}/REINFORCE.pth')\n",
    "TEST_OUTPUT_PATH = Path(f'./run/test_result/{RESULT_DIR_NAME}/REINFORCE')\n",
    "\n",
    "# 打印查看环境的动作空间和状态空间 \n",
    "env.print_state_action_dims()\n",
    "\n",
    "\n",
    "TRAIN_EPOCH = 1000\n",
    "HIDDEN_DIM = 256\n",
    "LEARNING_RATE = 2e-3\n",
    "GAMMA = 0.99\n",
    "\n",
    "_USE_CUDA = True and torch.cuda.is_available()\n",
    "# _USE_CUDA = False and torch.cuda.is_available()\n",
    "\n",
    "policy_func = PolicyNetFunc(env.get_state_dim()[0], \n",
    "                   env.get_action_dim()[0], \n",
    "                   hidden_dim=HIDDEN_DIM, \n",
    "                   device=torch.device('cuda') if _USE_CUDA else None)\n",
    "\n",
    "\n",
    "policy_func_trainer = PolicyNetTrainer(policy_func=policy_func,\n",
    "                                  env=env,\n",
    "                                  learning_rate=LEARNING_RATE,\n",
    "                                  gamma=GAMMA,\n",
    "                                  logger_folder=LOG_PATH)"
   ]
  },
  {
   "cell_type": "markdown",
   "metadata": {},
   "source": [
    "#### 训练模型"
   ]
  },
  {
   "cell_type": "code",
   "execution_count": null,
   "metadata": {},
   "outputs": [],
   "source": [
    "start_train(StandarTrainProcess(\n",
    "    trainer=policy_func_trainer,\n",
    "    model=policy_func,\n",
    "    train_epoch=TRAIN_EPOCH,\n",
    "    log_path=LOG_PATH,\n",
    "    model_path=MODEL_PATH\n",
    "))"
   ]
  },
  {
   "cell_type": "markdown",
   "metadata": {},
   "source": [
    "#### 开始测试"
   ]
  },
  {
   "cell_type": "code",
   "execution_count": 8,
   "metadata": {},
   "outputs": [
    {
     "data": {
      "image/gif": "[encoded data removed]",
      "text/plain": [
       "<IPython.core.display.Image object>"
      ]
     },
     "metadata": {},
     "output_type": "display_data"
    },
    {
     "data": {
      "text/plain": [
       "9.0"
      ]
     },
     "execution_count": 8,
     "metadata": {},
     "output_type": "execute_result"
    }
   ],
   "source": [
    "test_policy_func = PolicyNetFunc.from_file(MODEL_PATH)\n",
    "_render_env = Env(gym.make(GYM_ENV_NAME, render_mode='rgb_array_list'))\n",
    "\n",
    "policy_func_tester = PolicyNetTester(\n",
    "    policy_fun=test_policy_func,\n",
    "    env=_render_env\n",
    ")\n",
    "\n",
    "\n",
    "start_test(\n",
    "    StandarTestProcess(\n",
    "        model=test_policy_func,\n",
    "        tester=policy_func_tester,\n",
    "        env=_render_env,\n",
    "        test_output_path=TEST_OUTPUT_PATH,\n",
    "        test_epoch=1000,\n",
    "    )\n",
    ")"
   ]
  },
  {
   "cell_type": "markdown",
   "metadata": {},
   "source": [
    "### 使用CarPole-V1 环境，测试Policy-Based + 基线的 REINFORCE 算法"
   ]
  },
  {
   "cell_type": "code",
   "execution_count": 9,
   "metadata": {},
   "outputs": [
    {
     "name": "stdout",
     "output_type": "stream",
     "text": [
      "\u001b[1mINFO    \u001b[0m | \u001b[36menv\u001b[0m: - \u001b[1maction: 2, space: Box([-4.8000002e+00 -3.4028235e+38 -4.1887903e-01 -3.4028235e+38], [4.8000002e+00 3.4028235e+38 4.1887903e-01 3.4028235e+38], (4,), float32)\u001b[0m; \u001b[32m2024-07-09 01:29:40\u001b[0m \u001b[36mprint_state_action_dims\u001b[0m:\u001b[36m68\u001b[0m\n"
     ]
    }
   ],
   "source": [
    "GYM_ENV_NAME = 'CartPole-v1'\n",
    "RESULT_DIR_NAME='cartpoleV1'\n",
    "env = Env.from_env_name(GYM_ENV_NAME)\n",
    "\n",
    "LOG_PATH = Path(f'./run/logs/{RESULT_DIR_NAME}/REINFORCE_With_BASE')\n",
    "MODEL_PATH = Path(f'./run/model/{RESULT_DIR_NAME}/REINFORCE_With_BASE.pth')\n",
    "TEST_OUTPUT_PATH = Path(f'./run/test_result/{RESULT_DIR_NAME}/REINFORCE_With_BASE')\n",
    "\n",
    "# 打印查看环境的动作空间和状态空间 \n",
    "env.print_state_action_dims()\n",
    "\n",
    "\n",
    "TRAIN_EPOCH = 1000\n",
    "HIDDEN_DIM = 256\n",
    "LEARNING_RATE = 2e-3\n",
    "VALUE_LEARNING_RATE = 1e-3\n",
    "GAMMA = 0.99\n",
    "\n",
    "_USE_CUDA = True and torch.cuda.is_available()\n",
    "# _USE_CUDA = False and torch.cuda.is_available()\n",
    "\n",
    "value_func = ValueNetFunc(\n",
    "                env.get_state_dim()[0], \n",
    "                hidden_dim=HIDDEN_DIM, \n",
    "                device=torch.device('cuda') if _USE_CUDA else None)\n",
    "\n",
    "policy_func = PolicyNetFunc(env.get_state_dim()[0], \n",
    "                   env.get_action_dim()[0], \n",
    "                   hidden_dim=HIDDEN_DIM, \n",
    "                   device=torch.device('cuda') if _USE_CUDA else None)\n",
    "\n",
    "\n",
    "policy_func_trainer = PolicyNetTrainerWithBase(\n",
    "                                  policy_func=policy_func,\n",
    "                                  value_func=value_func,\n",
    "                                  value_learning_rate=LEARNING_RATE,\n",
    "                                  env=env,\n",
    "                                  learning_rate=VALUE_LEARNING_RATE,\n",
    "                                  gamma=GAMMA,\n",
    "                                  logger_folder=LOG_PATH)"
   ]
  },
  {
   "cell_type": "markdown",
   "metadata": {},
   "source": [
    "#### 训练模型"
   ]
  },
  {
   "cell_type": "code",
   "execution_count": 10,
   "metadata": {},
   "outputs": [
    {
     "name": "stdout",
     "output_type": "stream",
     "text": [
      "\u001b[1mINFO    \u001b[0m | \u001b[36mtrain_test_util\u001b[0m: - \u001b[1mstart training, now datetime: 2024-07-09 01:29:40.535512\u001b[0m; \u001b[32m2024-07-09 01:29:40\u001b[0m \u001b[36mstart_train\u001b[0m:\u001b[36m62\u001b[0m\n",
      "\u001b[1mINFO    \u001b[0m | \u001b[36mtrain_test_util\u001b[0m: - \u001b[1mFirst, clean log path: run\\logs\\cartpoleV1\\REINFORCE_With_BASE, and clean model path: run\\model\\cartpoleV1\\REINFORCE_With_BASE.pth\u001b[0m; \u001b[32m2024-07-09 01:29:40\u001b[0m \u001b[36mstart_train\u001b[0m:\u001b[36m63\u001b[0m\n",
      "\u001b[1mINFO    \u001b[0m | \u001b[36mtrain_test_util\u001b[0m: - \u001b[1mtrain started\u001b[0m; \u001b[32m2024-07-09 01:29:40\u001b[0m \u001b[36mstart_train\u001b[0m:\u001b[36m68\u001b[0m\n"
     ]
    },
    {
     "name": "stderr",
     "output_type": "stream",
     "text": [
      "  5%|▌         | 53/1000 [00:01<00:17, 54.88it/s, reward=35.00, step=35]"
     ]
    }
   ],
   "source": [
    "start_train(StandarTrainProcess(\n",
    "    trainer=policy_func_trainer,\n",
    "    model=policy_func,\n",
    "    train_epoch=TRAIN_EPOCH,\n",
    "    log_path=LOG_PATH,\n",
    "    model_path=MODEL_PATH\n",
    "))"
   ]
  },
  {
   "cell_type": "markdown",
   "metadata": {},
   "source": [
    "#### 测试模型"
   ]
  },
  {
   "cell_type": "code",
   "execution_count": null,
   "metadata": {},
   "outputs": [],
   "source": [
    "test_policy_func = PolicyNetFunc.from_file(MODEL_PATH)\n",
    "_render_env = Env(gym.make(GYM_ENV_NAME, render_mode='rgb_array_list'))\n",
    "\n",
    "policy_func_tester = PolicyNetTester(\n",
    "    policy_fun=test_policy_func,\n",
    "    env=_render_env\n",
    ")\n",
    "\n",
    "\n",
    "start_test(\n",
    "    StandarTestProcess(\n",
    "        model=test_policy_func,\n",
    "        tester=policy_func_tester,\n",
    "        env=_render_env,\n",
    "        test_output_path=TEST_OUTPUT_PATH,\n",
    "        test_epoch=1000,\n",
    "    )\n",
    ")"
   ]
  },
  {
   "cell_type": "markdown",
   "metadata": {},
   "source": []
  },
  {
   "cell_type": "markdown",
   "metadata": {},
   "source": [
    "### 使用Pendulum-v1 环境，测试Policy-Based REINFORCE 算法"
   ]
  },
  {
   "cell_type": "code",
   "execution_count": null,
   "metadata": {},
   "outputs": [],
   "source": [
    "GYM_ENV_NAME = 'Pendulum-v1'\n",
    "RESULT_DIR_NAME = 'pendulumV1'\n",
    "\n",
    "env = Env.from_env_name(GYM_ENV_NAME)\n",
    "\n",
    "LOG_PATH = Path(f'./run/logs/{RESULT_DIR_NAME}/policy_based')\n",
    "MODEL_PATH = Path(f'./run/model/{RESULT_DIR_NAME}/policy_model.pth')\n",
    "TEST_OUTPUT_PATH = Path(f'./run/test_result/{RESULT_DIR_NAME}_policy')\n",
    "\n",
    "# 打印查看环境的动作空间和状态空间 \n",
    "env.print_state_action_dims()\n",
    "\n",
    "# 动作空间离散化程度（用11个区间来替代连续动作空间）\n",
    "BINS = 11\n",
    "\n",
    "TRAIN_EPOCH = 1000\n",
    "HIDDEN_DIM = 512\n",
    "LEARNING_RATE = 1e-3\n",
    "GAMMA = 0.99\n",
    "\n",
    "_USE_CUDA = True and torch.cuda.is_available()\n",
    "# _USE_CUDA = False and torch.cuda.is_available()\n",
    "\n",
    "policy_func = PolicyNetFunc(env.get_state_dim()[0], \n",
    "                   action_nums=BINS, \n",
    "                   hidden_dim=HIDDEN_DIM, \n",
    "                   device=torch.device('cuda') if _USE_CUDA else None)\n",
    "\n",
    "\n",
    "policy_func_trainer = PolicyNetTrainer(policy_func=policy_func,\n",
    "                                  env=env,\n",
    "                                  learning_rate=LEARNING_RATE,\n",
    "                                  gamma=GAMMA,\n",
    "                                  logger_folder=LOG_PATH,\n",
    "                                  action_converter=get_action_discreter(env, BINS))"
   ]
  },
  {
   "cell_type": "markdown",
   "metadata": {},
   "source": [
    "#### 训练模型"
   ]
  },
  {
   "cell_type": "code",
   "execution_count": null,
   "metadata": {},
   "outputs": [],
   "source": [
    "start_train(StandarTrainProcess(\n",
    "    trainer=policy_func_trainer,\n",
    "    model=policy_func,\n",
    "    train_epoch=TRAIN_EPOCH,\n",
    "    log_path=LOG_PATH,\n",
    "    model_path=MODEL_PATH\n",
    "))"
   ]
  },
  {
   "cell_type": "markdown",
   "metadata": {},
   "source": [
    "#### 开始测试"
   ]
  },
  {
   "cell_type": "code",
   "execution_count": null,
   "metadata": {},
   "outputs": [],
   "source": [
    "test_policy_func = PolicyNetFunc.from_file(MODEL_PATH)\n",
    "_render_env = Env(gym.make(GYM_ENV_NAME, render_mode='rgb_array_list'))\n",
    "\n",
    "policy_func_tester = PolicyNetTester(\n",
    "    policy_fun=test_policy_func,\n",
    "    env=_render_env,\n",
    "    action_converter=get_action_discreter(env, BINS)\n",
    ")\n",
    "\n",
    "\n",
    "start_test(\n",
    "    StandarTestProcess(\n",
    "        model=test_policy_func,\n",
    "        tester=policy_func_tester,\n",
    "        env=_render_env,\n",
    "        test_output_path=TEST_OUTPUT_PATH,\n",
    "        test_epoch=1000,\n",
    "    )\n",
    ")"
   ]
  },
  {
   "cell_type": "markdown",
   "metadata": {},
   "source": [
    "### 使用Pendulum-v1 环境，测试Policy-Based + 基线的 REINFORCE 算法"
   ]
  },
  {
   "cell_type": "code",
   "execution_count": null,
   "metadata": {},
   "outputs": [],
   "source": [
    "GYM_ENV_NAME = 'Pendulum-v1'\n",
    "RESULT_DIR_NAME = 'pendulumV1'\n",
    "\n",
    "env = Env.from_env_name(GYM_ENV_NAME)\n",
    "\n",
    "LOG_PATH = Path(f'./run/logs/{RESULT_DIR_NAME}/REINFORCE_With_BASE')\n",
    "MODEL_PATH = Path(f'./run/model/{RESULT_DIR_NAME}/REINFORCE_With_BASE.pth')\n",
    "TEST_OUTPUT_PATH = Path(f'./run/test_result/{RESULT_DIR_NAME}/REINFORCE_With_BASE')\n",
    "\n",
    "# 打印查看环境的动作空间和状态空间 \n",
    "env.print_state_action_dims()\n",
    "\n",
    "# 动作空间离散化程度（用11个区间来替代连续动作空间）\n",
    "BINS = 11\n",
    "\n",
    "TRAIN_EPOCH = 3000\n",
    "HIDDEN_DIM = 512\n",
    "LEARNING_RATE = 5e-4\n",
    "VALUE_LEARNING_RATE = 5e-3\n",
    "GAMMA = 0.999\n",
    "\n",
    "_USE_CUDA = True and torch.cuda.is_available()\n",
    "# _USE_CUDA = False and torch.cuda.is_available()\n",
    "\n",
    "value_func = ValueNetFunc(\n",
    "                env.get_state_dim()[0], \n",
    "                hidden_dim=HIDDEN_DIM, \n",
    "                device=torch.device('cuda') if _USE_CUDA else None)\n",
    "\n",
    "policy_func = PolicyNetFunc(env.get_state_dim()[0], \n",
    "                   action_nums=BINS, \n",
    "                   hidden_dim=HIDDEN_DIM, \n",
    "                   device=torch.device('cuda') if _USE_CUDA else None)\n",
    "\n",
    "\n",
    "policy_func_trainer = PolicyNetTrainerWithBase(\n",
    "                                  policy_func=policy_func,\n",
    "                                  value_func=value_func,\n",
    "                                  value_learning_rate=VALUE_LEARNING_RATE,\n",
    "                                  env=env,\n",
    "                                  learning_rate=LEARNING_RATE,\n",
    "                                  gamma=GAMMA,\n",
    "                                  logger_folder=LOG_PATH,\n",
    "                                  action_converter=get_action_discreter(env, BINS))"
   ]
  },
  {
   "cell_type": "markdown",
   "metadata": {},
   "source": [
    "#### 训练模型"
   ]
  },
  {
   "cell_type": "code",
   "execution_count": null,
   "metadata": {},
   "outputs": [],
   "source": [
    "start_train(StandarTrainProcess(\n",
    "    trainer=policy_func_trainer,\n",
    "    model=policy_func,\n",
    "    train_epoch=TRAIN_EPOCH,\n",
    "    log_path=LOG_PATH,\n",
    "    model_path=MODEL_PATH\n",
    "))"
   ]
  },
  {
   "cell_type": "markdown",
   "metadata": {},
   "source": [
    "#### 测试模型"
   ]
  },
  {
   "cell_type": "code",
   "execution_count": null,
   "metadata": {},
   "outputs": [],
   "source": [
    "test_policy_func = PolicyNetFunc.from_file(MODEL_PATH)\n",
    "_render_env = Env(gym.make(GYM_ENV_NAME, render_mode='rgb_array_list'))\n",
    "\n",
    "policy_func_tester = PolicyNetTester(\n",
    "    policy_fun=test_policy_func,\n",
    "    env=_render_env,\n",
    "    action_converter=get_action_discreter(_render_env, BINS),\n",
    "    stochastic=True\n",
    ")\n",
    "\n",
    "\n",
    "start_test(\n",
    "    StandarTestProcess(\n",
    "        model=test_policy_func,\n",
    "        tester=policy_func_tester,\n",
    "        env=_render_env,\n",
    "        test_output_path=TEST_OUTPUT_PATH,\n",
    "        test_epoch=1000,\n",
    "    )\n",
    ")"
   ]
  },
  {
   "cell_type": "markdown",
   "metadata": {},
   "source": [
    "### 使用CarPole-V1 环境，测试Policy-Based AC 算法"
   ]
  },
  {
   "cell_type": "code",
   "execution_count": null,
   "metadata": {},
   "outputs": [],
   "source": [
    "from policy_based import PolicyValueNetTrainer, ActionStateValueNetFunc\n",
    "\n",
    "GYM_ENV_NAME = 'CartPole-v1'\n",
    "RESULT_DIR_NAME='cartpoleV1'\n",
    "env = Env.from_env_name(GYM_ENV_NAME)\n",
    "\n",
    "LOG_PATH = Path(f'./run/logs/{RESULT_DIR_NAME}/AC')\n",
    "MODEL_PATH = Path(f'./run/model/{RESULT_DIR_NAME}/AC/AC.pth')\n",
    "TEST_OUTPUT_PATH = Path(f'./run/test_result/{RESULT_DIR_NAME}/AC')\n",
    "\n",
    "# 打印查看环境的动作空间和状态空间 \n",
    "env.print_state_action_dims()\n",
    "\n",
    "TRAIN_EPOCH = 3000\n",
    "HIDDEN_DIM = 256\n",
    "LEARNING_RATE = 2e-3\n",
    "VLEARNING_RATE = 5e-3\n",
    "GAMMA = 0.99\n",
    "\n",
    "_USE_CUDA = True and torch.cuda.is_available()\n",
    "# _USE_CUDA = False and torch.cuda.is_available()\n",
    "\n",
    "policy_func = PolicyNetFunc(env.get_state_dim()[0], \n",
    "                   action_nums=env.get_action_dim()[0], \n",
    "                   hidden_dim=HIDDEN_DIM * 2, \n",
    "                   device=torch.device('cuda') if _USE_CUDA else None)\n",
    "\n",
    "value_func = ActionStateValueNetFunc(env.get_state_dim()[0],\n",
    "                          action_nums=env.get_action_dim()[0],\n",
    "                          hidden_dim=HIDDEN_DIM,\n",
    "                          device=torch.device('cuda') if _USE_CUDA else None)\n",
    "\n",
    "\n",
    "policy_func_trainer = PolicyValueNetTrainer(\n",
    "                                  policy_func=policy_func,\n",
    "                                  value_func=value_func,\n",
    "                                  vlearning_rate=VLEARNING_RATE,\n",
    "                                  env=env,\n",
    "                                  learning_rate=LEARNING_RATE,\n",
    "                                  gamma=GAMMA,\n",
    "                                  logger_folder=LOG_PATH\n",
    "                                  )"
   ]
  },
  {
   "cell_type": "markdown",
   "metadata": {},
   "source": [
    "#### 开始训练"
   ]
  },
  {
   "cell_type": "code",
   "execution_count": null,
   "metadata": {},
   "outputs": [],
   "source": [
    "start_train(\n",
    "    StandarTrainProcess(\n",
    "        trainer=policy_func_trainer,\n",
    "        model=policy_func,\n",
    "        train_epoch=TRAIN_EPOCH,\n",
    "        log_path=LOG_PATH,\n",
    "        model_path=MODEL_PATH\n",
    "    )\n",
    ")"
   ]
  },
  {
   "cell_type": "code",
   "execution_count": null,
   "metadata": {},
   "outputs": [],
   "source": [
    "test_policy_func = PolicyNetFunc.from_file(MODEL_PATH)\n",
    "_render_env = Env(gym.make(GYM_ENV_NAME, render_mode='rgb_array_list'))\n",
    "\n",
    "policy_func_tester = PolicyNetTester(\n",
    "    policy_fun=test_policy_func,\n",
    "    env=_render_env\n",
    ")\n",
    "\n",
    "\n",
    "avg_reward = start_test(\n",
    "    StandarTestProcess(\n",
    "        model=test_policy_func,\n",
    "        tester=policy_func_tester,\n",
    "        env=_render_env,\n",
    "        test_output_path=TEST_OUTPUT_PATH,\n",
    "        test_epoch=100,\n",
    "        show_result=False\n",
    "    )\n",
    ")\n",
    "print(f'avg reward: {avg_reward}')"
   ]
  },
  {
   "cell_type": "markdown",
   "metadata": {},
   "source": [
    "### 使用CarPole-V1 环境，测试Policy-Based TRPO 算法"
   ]
  },
  {
   "cell_type": "code",
   "execution_count": 2,
   "metadata": {},
   "outputs": [
    {
     "name": "stdout",
     "output_type": "stream",
     "text": [
      "\u001b[1mINFO    \u001b[0m | \u001b[36menv\u001b[0m: - \u001b[1maction: 2, space: Box([-4.8000002e+00 -3.4028235e+38 -4.1887903e-01 -3.4028235e+38], [4.8000002e+00 3.4028235e+38 4.1887903e-01 3.4028235e+38], (4,), float32)\u001b[0m; \u001b[32m2024-07-09 01:43:19\u001b[0m \u001b[36mprint_state_action_dims\u001b[0m:\u001b[36m68\u001b[0m\n"
     ]
    }
   ],
   "source": [
    "from policy_based import PolicyNetTrainerWithTRPO, ActionStateValueNetFunc\n",
    "\n",
    "GYM_ENV_NAME = 'CartPole-v1'\n",
    "RESULT_DIR_NAME='cartpoleV1'\n",
    "env = Env.from_env_name(GYM_ENV_NAME)\n",
    "\n",
    "LOG_PATH = Path(f'./run/logs/{RESULT_DIR_NAME}/AC')\n",
    "MODEL_PATH = Path(f'./run/model/{RESULT_DIR_NAME}/AC/AC.pth')\n",
    "TEST_OUTPUT_PATH = Path(f'./run/test_result/{RESULT_DIR_NAME}/AC')\n",
    "\n",
    "# 打印查看环境的动作空间和状态空间 \n",
    "env.print_state_action_dims()\n",
    "\n",
    "TRAIN_EPOCH = 3000\n",
    "HIDDEN_DIM = 256\n",
    "LEARNING_RATE = 2e-3\n",
    "VLEARNING_RATE = 5e-3\n",
    "GAMMA = 0.99\n",
    "\n",
    "_USE_CUDA = True and torch.cuda.is_available()\n",
    "# _USE_CUDA = False and torch.cuda.is_available()\n",
    "\n",
    "policy_func = PolicyNetFunc(env.get_state_dim()[0], \n",
    "                   action_nums=env.get_action_dim()[0], \n",
    "                   hidden_dim=HIDDEN_DIM * 2, \n",
    "                   device=torch.device('cuda') if _USE_CUDA else None)\n",
    "\n",
    "value_func = ActionStateValueNetFunc(env.get_state_dim()[0],\n",
    "                          action_nums=env.get_action_dim()[0],\n",
    "                          hidden_dim=HIDDEN_DIM,\n",
    "                          device=torch.device('cuda') if _USE_CUDA else None)\n",
    "\n",
    "\n",
    "policy_func_trainer = PolicyNetTrainerWithTRPO(\n",
    "                                  policy_func=policy_func,\n",
    "                                  value_func=value_func,\n",
    "                                  value_learning_rate=VLEARNING_RATE,\n",
    "                                  env=env,\n",
    "                                  learning_rate=LEARNING_RATE,\n",
    "                                  gamma=GAMMA,\n",
    "                                  logger_folder=LOG_PATH,\n",
    "                                  kl_threadhold=0.0005,\n",
    "                                  search_alpha=0.5\n",
    "                                  )"
   ]
  },
  {
   "cell_type": "markdown",
   "metadata": {},
   "source": [
    "### 开始训练"
   ]
  },
  {
   "cell_type": "code",
   "execution_count": 3,
   "metadata": {},
   "outputs": [
    {
     "name": "stdout",
     "output_type": "stream",
     "text": [
      "\u001b[1mINFO    \u001b[0m | \u001b[36mtrain_test_util\u001b[0m: - \u001b[1mstart training, now datetime: 2024-07-09 01:43:20.898569\u001b[0m; \u001b[32m2024-07-09 01:43:20\u001b[0m \u001b[36mstart_train\u001b[0m:\u001b[36m62\u001b[0m\n",
      "\u001b[1mINFO    \u001b[0m | \u001b[36mtrain_test_util\u001b[0m: - \u001b[1mFirst, clean log path: run\\logs\\cartpoleV1\\AC, and clean model path: run\\model\\cartpoleV1\\AC\\AC.pth\u001b[0m; \u001b[32m2024-07-09 01:43:20\u001b[0m \u001b[36mstart_train\u001b[0m:\u001b[36m63\u001b[0m\n",
      "\u001b[1mINFO    \u001b[0m | \u001b[36mtrain_test_util\u001b[0m: - \u001b[1mtrain started\u001b[0m; \u001b[32m2024-07-09 01:43:20\u001b[0m \u001b[36mstart_train\u001b[0m:\u001b[36m68\u001b[0m\n"
     ]
    },
    {
     "name": "stderr",
     "output_type": "stream",
     "text": [
      "  0%|          | 0/3000 [00:00<?, ?it/s]"
     ]
    },
    {
     "name": "stdout",
     "output_type": "stream",
     "text": [
      "x ini: :  tensor([0., 0., 0.,  ..., 0., 0., 0.], device='cuda:0')\n",
      "kl_divergence is:  tensor(0., device='cuda:0', grad_fn=<MeanBackward0>)\n",
      "kl_grad_vector is:  tensor([0., 0., 0.,  ..., 0., 0., 0.], device='cuda:0', grad_fn=<CatBackward0>)\n",
      "hp at 0 is:  tensor([0., 0., 0.,  ..., 0., 0., 0.], device='cuda:0')\n",
      "x at 0 is:  tensor([nan, nan, nan,  ..., nan, nan, nan], device='cuda:0')\n",
      "kl_divergence is:  tensor(0., device='cuda:0', grad_fn=<MeanBackward0>)\n",
      "kl_grad_vector is:  tensor([0., 0., 0.,  ..., 0., 0., 0.], device='cuda:0', grad_fn=<CatBackward0>)\n",
      "hp at 1 is:  tensor([nan, nan, nan,  ..., nan, nan, nan], device='cuda:0')\n",
      "x at 1 is:  tensor([nan, nan, nan,  ..., nan, nan, nan], device='cuda:0')\n",
      "kl_divergence is:  tensor(0., device='cuda:0', grad_fn=<MeanBackward0>)\n",
      "kl_grad_vector is:  tensor([0., 0., 0.,  ..., 0., 0., 0.], device='cuda:0', grad_fn=<CatBackward0>)\n",
      "hp at 2 is:  tensor([nan, nan, nan,  ..., nan, nan, nan], device='cuda:0')\n",
      "x at 2 is:  tensor([nan, nan, nan,  ..., nan, nan, nan], device='cuda:0')\n",
      "kl_divergence is:  tensor(0., device='cuda:0', grad_fn=<MeanBackward0>)\n",
      "kl_grad_vector is:  tensor([0., 0., 0.,  ..., 0., 0., 0.], device='cuda:0', grad_fn=<CatBackward0>)\n",
      "hp at 3 is:  tensor([nan, nan, nan,  ..., nan, nan, nan], device='cuda:0')\n",
      "x at 3 is:  tensor([nan, nan, nan,  ..., nan, nan, nan], device='cuda:0')\n",
      "kl_divergence is:  tensor(0., device='cuda:0', grad_fn=<MeanBackward0>)\n",
      "kl_grad_vector is:  tensor([0., 0., 0.,  ..., 0., 0., 0.], device='cuda:0', grad_fn=<CatBackward0>)\n",
      "hp at 4 is:  tensor([nan, nan, nan,  ..., nan, nan, nan], device='cuda:0')\n",
      "x at 4 is:  tensor([nan, nan, nan,  ..., nan, nan, nan], device='cuda:0')\n",
      "kl_divergence is:  tensor(0., device='cuda:0', grad_fn=<MeanBackward0>)\n",
      "kl_grad_vector is:  tensor([0., 0., 0.,  ..., 0., 0., 0.], device='cuda:0', grad_fn=<CatBackward0>)\n",
      "hp at 5 is:  tensor([nan, nan, nan,  ..., nan, nan, nan], device='cuda:0')\n",
      "x at 5 is:  tensor([nan, nan, nan,  ..., nan, nan, nan], device='cuda:0')\n",
      "kl_divergence is:  tensor(0., device='cuda:0', grad_fn=<MeanBackward0>)\n",
      "kl_grad_vector is:  tensor([0., 0., 0.,  ..., 0., 0., 0.], device='cuda:0', grad_fn=<CatBackward0>)\n",
      "hp at 6 is:  tensor([nan, nan, nan,  ..., nan, nan, nan], device='cuda:0')\n",
      "x at 6 is:  tensor([nan, nan, nan,  ..., nan, nan, nan], device='cuda:0')\n",
      "kl_divergence is:  tensor(0., device='cuda:0', grad_fn=<MeanBackward0>)\n",
      "kl_grad_vector is:  tensor([0., 0., 0.,  ..., 0., 0., 0.], device='cuda:0', grad_fn=<CatBackward0>)\n",
      "hp at 7 is:  tensor([nan, nan, nan,  ..., nan, nan, nan], device='cuda:0')\n",
      "x at 7 is:  tensor([nan, nan, nan,  ..., nan, nan, nan], device='cuda:0')\n",
      "kl_divergence is:  tensor(0., device='cuda:0', grad_fn=<MeanBackward0>)\n",
      "kl_grad_vector is:  tensor([0., 0., 0.,  ..., 0., 0., 0.], device='cuda:0', grad_fn=<CatBackward0>)\n",
      "hp at 8 is:  tensor([nan, nan, nan,  ..., nan, nan, nan], device='cuda:0')\n",
      "x at 8 is:  tensor([nan, nan, nan,  ..., nan, nan, nan], device='cuda:0')\n",
      "kl_divergence is:  tensor(0., device='cuda:0', grad_fn=<MeanBackward0>)\n",
      "kl_grad_vector is:  tensor([0., 0., 0.,  ..., 0., 0., 0.], device='cuda:0', grad_fn=<CatBackward0>)\n",
      "hp at 9 is:  tensor([nan, nan, nan,  ..., nan, nan, nan], device='cuda:0')\n",
      "x at 9 is:  tensor([nan, nan, nan,  ..., nan, nan, nan], device='cuda:0')\n",
      "x finally: :  tensor([nan, nan, nan,  ..., nan, nan, nan], device='cuda:0')\n",
      "kl_divergence is:  tensor(0., device='cuda:0', grad_fn=<MeanBackward0>)\n",
      "kl_grad_vector is:  tensor([0., 0., 0.,  ..., 0., 0., 0.], device='cuda:0', grad_fn=<CatBackward0>)\n",
      "coef is:  1.0\n",
      "descent is:  tensor([nan, nan, nan,  ..., nan, nan, nan], device='cuda:0')\n"
     ]
    },
    {
     "name": "stderr",
     "output_type": "stream",
     "text": [
      "  0%|          | 0/3000 [00:00<?, ?it/s]"
     ]
    },
    {
     "name": "stdout",
     "output_type": "stream",
     "text": [
      "tensor([[nan, nan],\n",
      "        [nan, nan],\n",
      "        [nan, nan],\n",
      "        [nan, nan],\n",
      "        [nan, nan],\n",
      "        [nan, nan],\n",
      "        [nan, nan],\n",
      "        [nan, nan],\n",
      "        [nan, nan],\n",
      "        [nan, nan],\n",
      "        [nan, nan],\n",
      "        [nan, nan],\n",
      "        [nan, nan],\n",
      "        [nan, nan],\n",
      "        [nan, nan],\n",
      "        [nan, nan],\n",
      "        [nan, nan],\n",
      "        [nan, nan],\n",
      "        [nan, nan],\n",
      "        [nan, nan],\n",
      "        [nan, nan],\n",
      "        [nan, nan],\n",
      "        [nan, nan],\n",
      "        [nan, nan],\n",
      "        [nan, nan],\n",
      "        [nan, nan],\n",
      "        [nan, nan]], device='cuda:0', grad_fn=<SoftmaxBackward0>)\n",
      "y is:  tensor([[0.5133, 0.4867],\n",
      "        [0.5351, 0.4649],\n",
      "        [0.5150, 0.4850],\n",
      "        [0.5362, 0.4638],\n",
      "        [0.5170, 0.4830],\n",
      "        [0.4942, 0.5058],\n",
      "        [0.4755, 0.5245],\n",
      "        [0.4543, 0.5457],\n",
      "        [0.4286, 0.5714],\n",
      "        [0.4570, 0.5430],\n",
      "        [0.4784, 0.5216],\n",
      "        [0.4955, 0.5045],\n",
      "        [0.4783, 0.5217],\n",
      "        [0.4580, 0.5420],\n",
      "        [0.4332, 0.5668],\n",
      "        [0.4585, 0.5415],\n",
      "        [0.4774, 0.5226],\n",
      "        [0.4567, 0.5433],\n",
      "        [0.4756, 0.5244],\n",
      "        [0.4862, 0.5138],\n",
      "        [0.5037, 0.4963],\n",
      "        [0.4830, 0.5170],\n",
      "        [0.4688, 0.5312],\n",
      "        [0.4445, 0.5555],\n",
      "        [0.4658, 0.5342],\n",
      "        [0.4405, 0.5595],\n",
      "        [0.4181, 0.5819]], device='cuda:0', grad_fn=<SoftmaxBackward0>)\n",
      "\u001b[31m\u001b[1mERROR   \u001b[0m | \u001b[36mtrain_test_util\u001b[0m: - \u001b[31m\u001b[1merror occured: Expected parameter probs (Tensor of shape (27, 2)) of distribution Categorical(probs: torch.Size([27, 2])) to satisfy the constraint Simplex(), but found invalid values:\n",
      "tensor([[nan, nan],\n",
      "        [nan, nan],\n",
      "        [nan, nan],\n",
      "        [nan, nan],\n",
      "        [nan, nan],\n",
      "        [nan, nan],\n",
      "        [nan, nan],\n",
      "        [nan, nan],\n",
      "        [nan, nan],\n",
      "        [nan, nan],\n",
      "        [nan, nan],\n",
      "        [nan, nan],\n",
      "        [nan, nan],\n",
      "        [nan, nan],\n",
      "        [nan, nan],\n",
      "        [nan, nan],\n",
      "        [nan, nan],\n",
      "        [nan, nan],\n",
      "        [nan, nan],\n",
      "        [nan, nan],\n",
      "        [nan, nan],\n",
      "        [nan, nan],\n",
      "        [nan, nan],\n",
      "        [nan, nan],\n",
      "        [nan, nan],\n",
      "        [nan, nan],\n",
      "        [nan, nan]], device='cuda:0', grad_fn=<DivBackward0>)\u001b[0m; \u001b[32m2024-07-09 01:43:21\u001b[0m \u001b[36mstart_train\u001b[0m:\u001b[36m74\u001b[0m\n",
      "\u001b[33m\u001b[1mTraceback (most recent call last):\u001b[0m\n",
      "\n",
      "  File \"<frozen runpy>\", line 198, in _run_module_as_main\n",
      "  File \"<frozen runpy>\", line 88, in _run_code\n",
      "  File \"f:\\conda\\envs\\quant\\Lib\\site-packages\\ipykernel_launcher.py\", line 18, in <module>\n",
      "    app.launch_new_instance()\n",
      "    │   └ <bound method Application.launch_instance of <class 'ipykernel.kernelapp.IPKernelApp'>>\n",
      "    └ <module 'ipykernel.kernelapp' from 'f:\\\\conda\\\\envs\\\\quant\\\\Lib\\\\site-packages\\\\ipykernel\\\\kernelapp.py'>\n",
      "  File \"f:\\conda\\envs\\quant\\Lib\\site-packages\\traitlets\\config\\application.py\", line 1075, in launch_instance\n",
      "    app.start()\n",
      "    │   └ <function IPKernelApp.start at 0x0000029BE27B6A20>\n",
      "    └ <ipykernel.kernelapp.IPKernelApp object at 0x0000029BDD532B10>\n",
      "  File \"f:\\conda\\envs\\quant\\Lib\\site-packages\\ipykernel\\kernelapp.py\", line 739, in start\n",
      "    self.io_loop.start()\n",
      "    │    │       └ <function BaseAsyncIOLoop.start at 0x0000029BE27B7B00>\n",
      "    │    └ <tornado.platform.asyncio.AsyncIOMainLoop object at 0x0000029BE27D5890>\n",
      "    └ <ipykernel.kernelapp.IPKernelApp object at 0x0000029BDD532B10>\n",
      "  File \"f:\\conda\\envs\\quant\\Lib\\site-packages\\tornado\\platform\\asyncio.py\", line 205, in start\n",
      "    self.asyncio_loop.run_forever()\n",
      "    │    │            └ <function BaseEventLoop.run_forever at 0x0000029BDF2F9E40>\n",
      "    │    └ <_WindowsSelectorEventLoop running=True closed=False debug=False>\n",
      "    └ <tornado.platform.asyncio.AsyncIOMainLoop object at 0x0000029BE27D5890>\n",
      "  File \"f:\\conda\\envs\\quant\\Lib\\asyncio\\base_events.py\", line 608, in run_forever\n",
      "    self._run_once()\n",
      "    │    └ <function BaseEventLoop._run_once at 0x0000029BDF2FBC40>\n",
      "    └ <_WindowsSelectorEventLoop running=True closed=False debug=False>\n",
      "  File \"f:\\conda\\envs\\quant\\Lib\\asyncio\\base_events.py\", line 1936, in _run_once\n",
      "    handle._run()\n",
      "    │      └ <function Handle._run at 0x0000029BDF2889A0>\n",
      "    └ <Handle Task.task_wakeup(<Future finis...9B)>, ...],))>)>\n",
      "  File \"f:\\conda\\envs\\quant\\Lib\\asyncio\\events.py\", line 84, in _run\n",
      "    self._context.run(self._callback, *self._args)\n",
      "    │    │            │    │           │    └ <member '_args' of 'Handle' objects>\n",
      "    │    │            │    │           └ <Handle Task.task_wakeup(<Future finis...9B)>, ...],))>)>\n",
      "    │    │            │    └ <member '_callback' of 'Handle' objects>\n",
      "    │    │            └ <Handle Task.task_wakeup(<Future finis...9B)>, ...],))>)>\n",
      "    │    └ <member '_context' of 'Handle' objects>\n",
      "    └ <Handle Task.task_wakeup(<Future finis...9B)>, ...],))>)>\n",
      "  File \"f:\\conda\\envs\\quant\\Lib\\site-packages\\ipykernel\\kernelbase.py\", line 545, in dispatch_queue\n",
      "    await self.process_one()\n",
      "          │    └ <function Kernel.process_one at 0x0000029BE13068E0>\n",
      "          └ <ipykernel.ipkernel.IPythonKernel object at 0x0000029BE27DF550>\n",
      "  File \"f:\\conda\\envs\\quant\\Lib\\site-packages\\ipykernel\\kernelbase.py\", line 534, in process_one\n",
      "    await dispatch(*args)\n",
      "          │         └ ([<zmq.Frame(b'1ba77f4a-045'...36B)>, <zmq.Frame(b'<IDS|MSG>')>, <zmq.Frame(b'e7d2310b1e4e'...64B)>, <zmq.Frame(b'{\"date\":\"20...\n",
      "          └ <bound method Kernel.dispatch_shell of <ipykernel.ipkernel.IPythonKernel object at 0x0000029BE27DF550>>\n",
      "  File \"f:\\conda\\envs\\quant\\Lib\\site-packages\\ipykernel\\kernelbase.py\", line 437, in dispatch_shell\n",
      "    await result\n",
      "          └ <coroutine object IPythonKernel.execute_request at 0x0000029BA183B740>\n",
      "  File \"f:\\conda\\envs\\quant\\Lib\\site-packages\\ipykernel\\ipkernel.py\", line 359, in execute_request\n",
      "    await super().execute_request(stream, ident, parent)\n",
      "                                  │       │      └ {'header': {'date': datetime.datetime(2024, 7, 8, 17, 43, 20, 896000, tzinfo=tzutc()), 'msg_id': 'db7c90ed-78ad-41d7-ab05-411...\n",
      "                                  │       └ [b'1ba77f4a-0457-4fca-adbb-0327ece6511f']\n",
      "                                  └ <zmq.eventloop.zmqstream.ZMQStream object at 0x0000029BE27D6550>\n",
      "  File \"f:\\conda\\envs\\quant\\Lib\\site-packages\\ipykernel\\kernelbase.py\", line 778, in execute_request\n",
      "    reply_content = await reply_content\n",
      "                          └ <coroutine object IPythonKernel.do_execute at 0x0000029BE279C810>\n",
      "  File \"f:\\conda\\envs\\quant\\Lib\\site-packages\\ipykernel\\ipkernel.py\", line 446, in do_execute\n",
      "    res = shell.run_cell(\n",
      "          │     └ <function ZMQInteractiveShell.run_cell at 0x0000029BE2797BA0>\n",
      "          └ <ipykernel.zmqshell.ZMQInteractiveShell object at 0x0000029BE27FCB50>\n",
      "  File \"f:\\conda\\envs\\quant\\Lib\\site-packages\\ipykernel\\zmqshell.py\", line 549, in run_cell\n",
      "    return super().run_cell(*args, **kwargs)\n",
      "                             │       └ {'store_history': True, 'silent': False, 'cell_id': 'vscode-notebook-cell:/f%3A/ws/rf_learning/policy_based_learning.ipynb#X5...\n",
      "                             └ ('start_train(\\n    StandarTrainProcess(\\n        trainer=policy_func_trainer,\\n        model=policy_func,\\n        train_epo...\n",
      "  File \"f:\\conda\\envs\\quant\\Lib\\site-packages\\IPython\\core\\interactiveshell.py\", line 3075, in run_cell\n",
      "    result = self._run_cell(\n",
      "             │    └ <function InteractiveShell._run_cell at 0x0000029BE094F100>\n",
      "             └ <ipykernel.zmqshell.ZMQInteractiveShell object at 0x0000029BE27FCB50>\n",
      "  File \"f:\\conda\\envs\\quant\\Lib\\site-packages\\IPython\\core\\interactiveshell.py\", line 3130, in _run_cell\n",
      "    result = runner(coro)\n",
      "             │      └ <coroutine object InteractiveShell.run_cell_async at 0x0000029BE25EADC0>\n",
      "             └ <function _pseudo_sync_runner at 0x0000029BE09462A0>\n",
      "  File \"f:\\conda\\envs\\quant\\Lib\\site-packages\\IPython\\core\\async_helpers.py\", line 129, in _pseudo_sync_runner\n",
      "    coro.send(None)\n",
      "    │    └ <method 'send' of 'coroutine' objects>\n",
      "    └ <coroutine object InteractiveShell.run_cell_async at 0x0000029BE25EADC0>\n",
      "  File \"f:\\conda\\envs\\quant\\Lib\\site-packages\\IPython\\core\\interactiveshell.py\", line 3334, in run_cell_async\n",
      "    has_raised = await self.run_ast_nodes(code_ast.body, cell_name,\n",
      "                       │    │             │        │     └ 'C:\\\\Users\\\\29000\\\\AppData\\\\Local\\\\Temp\\\\ipykernel_17112\\\\284164877.py'\n",
      "                       │    │             │        └ [<ast.Expr object at 0x0000029B8926BA30>]\n",
      "                       │    │             └ <ast.Module object at 0x0000029BE285C1C0>\n",
      "                       │    └ <function InteractiveShell.run_ast_nodes at 0x0000029BE094F420>\n",
      "                       └ <ipykernel.zmqshell.ZMQInteractiveShell object at 0x0000029BE27FCB50>\n",
      "  File \"f:\\conda\\envs\\quant\\Lib\\site-packages\\IPython\\core\\interactiveshell.py\", line 3517, in run_ast_nodes\n",
      "    if await self.run_code(code, result, async_=asy):\n",
      "             │    │        │     │              └ False\n",
      "             │    │        │     └ <ExecutionResult object at 29be2852d10, execution_count=3 error_before_exec=None error_in_exec=None info=<ExecutionInfo objec...\n",
      "             │    │        └ <code object <module> at 0x0000029BE27FB2D0, file \"C:\\Users\\29000\\AppData\\Local\\Temp\\ipykernel_17112\\284164877.py\", line 1>\n",
      "             │    └ <function InteractiveShell.run_code at 0x0000029BE094F4C0>\n",
      "             └ <ipykernel.zmqshell.ZMQInteractiveShell object at 0x0000029BE27FCB50>\n",
      "  File \"f:\\conda\\envs\\quant\\Lib\\site-packages\\IPython\\core\\interactiveshell.py\", line 3577, in run_code\n",
      "    exec(code_obj, self.user_global_ns, self.user_ns)\n",
      "         │         │    │               │    └ {'__name__': '__main__', '__doc__': 'Automatically created module for IPython interactive environment', '__package__': None, ...\n",
      "         │         │    │               └ <ipykernel.zmqshell.ZMQInteractiveShell object at 0x0000029BE27FCB50>\n",
      "         │         │    └ <property object at 0x0000029BE093F4C0>\n",
      "         │         └ <ipykernel.zmqshell.ZMQInteractiveShell object at 0x0000029BE27FCB50>\n",
      "         └ <code object <module> at 0x0000029BE27FB2D0, file \"C:\\Users\\29000\\AppData\\Local\\Temp\\ipykernel_17112\\284164877.py\", line 1>\n",
      "\n",
      "  File \"\u001b[32mC:\\Users\\29000\\AppData\\Local\\Temp\\ipykernel_17112\\\u001b[0m\u001b[32m\u001b[1m284164877.py\u001b[0m\", line \u001b[33m1\u001b[0m, in \u001b[35m<module>\u001b[0m\n",
      "    \u001b[1mstart_train\u001b[0m\u001b[1m(\u001b[0m\n",
      "    \u001b[36m└ \u001b[0m\u001b[36m\u001b[1m<function start_train at 0x0000029B89267060>\u001b[0m\n",
      "\n",
      "> File \"\u001b[32mf:\\ws\\rf_learning\\\u001b[0m\u001b[32m\u001b[1mtrain_test_util.py\u001b[0m\", line \u001b[33m69\u001b[0m, in \u001b[35mstart_train\u001b[0m\n",
      "    \u001b[1mtrain_process\u001b[0m\u001b[35m\u001b[1m.\u001b[0m\u001b[1mtrainer\u001b[0m\u001b[35m\u001b[1m.\u001b[0m\u001b[1mtrain\u001b[0m\u001b[1m(\u001b[0m\u001b[1mtrain_epoch\u001b[0m\u001b[35m\u001b[1m=\u001b[0m\u001b[1mtrain_process\u001b[0m\u001b[35m\u001b[1m.\u001b[0m\u001b[1mtrain_epoch\u001b[0m\u001b[1m)\u001b[0m\n",
      "    \u001b[36m│             │       │                 │             └ \u001b[0m\u001b[36m\u001b[1m3000\u001b[0m\n",
      "    \u001b[36m│             │       │                 └ \u001b[0m\u001b[36m\u001b[1mStandarTrainProcess(trainer=<policy_based.PolicyNetTrainerWithTRPO object at 0x0000029B87ACA8D0>, model=PolicyNetFunc(\u001b[0m\n",
      "    \u001b[36m│             │       │                   \u001b[0m\u001b[36m\u001b[1m  (_fc...\u001b[0m\n",
      "    \u001b[36m│             │       └ \u001b[0m\u001b[36m\u001b[1m<function PolicyNetTrainer.train at 0x0000029B89265DA0>\u001b[0m\n",
      "    \u001b[36m│             └ \u001b[0m\u001b[36m\u001b[1m<policy_based.PolicyNetTrainerWithTRPO object at 0x0000029B87ACA8D0>\u001b[0m\n",
      "    \u001b[36m└ \u001b[0m\u001b[36m\u001b[1mStandarTrainProcess(trainer=<policy_based.PolicyNetTrainerWithTRPO object at 0x0000029B87ACA8D0>, model=PolicyNetFunc(\u001b[0m\n",
      "    \u001b[36m  \u001b[0m\u001b[36m\u001b[1m  (_fc...\u001b[0m\n",
      "\n",
      "  File \"\u001b[32mf:\\ws\\rf_learning\\\u001b[0m\u001b[32m\u001b[1mpolicy_based.py\u001b[0m\", line \u001b[33m162\u001b[0m, in \u001b[35mtrain\u001b[0m\n",
      "    \u001b[1mself\u001b[0m\u001b[35m\u001b[1m.\u001b[0m\u001b[1mupdate\u001b[0m\u001b[1m(\u001b[0m\u001b[1mtrajectory_record_list\u001b[0m\u001b[1m,\u001b[0m \u001b[1mwriter\u001b[0m\u001b[1m,\u001b[0m \u001b[1mepoch\u001b[0m\u001b[1m)\u001b[0m\n",
      "    \u001b[36m│    │      │                       │       └ \u001b[0m\u001b[36m\u001b[1m0\u001b[0m\n",
      "    \u001b[36m│    │      │                       └ \u001b[0m\u001b[36m\u001b[1m<tensorboardX.writer.SummaryWriter object at 0x0000029B9ED6B510>\u001b[0m\n",
      "    \u001b[36m│    │      └ \u001b[0m\u001b[36m\u001b[1m[(array([-0.03250131,  0.01840519,  0.04241987,  0.01009412], dtype=float32), 0, 1.0, array([-0.0321332 , -0.17729864,  0.042...\u001b[0m\n",
      "    \u001b[36m│    └ \u001b[0m\u001b[36m\u001b[1m<function PolicyNetTrainerWithTRPO.update at 0x0000029B89266700>\u001b[0m\n",
      "    \u001b[36m└ \u001b[0m\u001b[36m\u001b[1m<policy_based.PolicyNetTrainerWithTRPO object at 0x0000029B87ACA8D0>\u001b[0m\n",
      "\n",
      "  File \"\u001b[32mf:\\ws\\rf_learning\\\u001b[0m\u001b[32m\u001b[1mpolicy_based.py\u001b[0m\", line \u001b[33m478\u001b[0m, in \u001b[35mupdate\u001b[0m\n",
      "    \u001b[1mself\u001b[0m\u001b[35m\u001b[1m.\u001b[0m\u001b[1m_update_with_trpo\u001b[0m\u001b[1m(\u001b[0m\u001b[1mtrajectory_record_list\u001b[0m\u001b[1m,\u001b[0m \u001b[1mwriter\u001b[0m\u001b[1m,\u001b[0m \u001b[1mepoch\u001b[0m\u001b[1m)\u001b[0m\n",
      "    \u001b[36m│    │                 │                       │       └ \u001b[0m\u001b[36m\u001b[1m0\u001b[0m\n",
      "    \u001b[36m│    │                 │                       └ \u001b[0m\u001b[36m\u001b[1m<tensorboardX.writer.SummaryWriter object at 0x0000029B9ED6B510>\u001b[0m\n",
      "    \u001b[36m│    │                 └ \u001b[0m\u001b[36m\u001b[1m[(array([-0.03250131,  0.01840519,  0.04241987,  0.01009412], dtype=float32), 0, 1.0, array([-0.0321332 , -0.17729864,  0.042...\u001b[0m\n",
      "    \u001b[36m│    └ \u001b[0m\u001b[36m\u001b[1m<function PolicyNetTrainerWithTRPO._update_with_trpo at 0x0000029B89266A20>\u001b[0m\n",
      "    \u001b[36m└ \u001b[0m\u001b[36m\u001b[1m<policy_based.PolicyNetTrainerWithTRPO object at 0x0000029B87ACA8D0>\u001b[0m\n",
      "\n",
      "  File \"\u001b[32mf:\\ws\\rf_learning\\\u001b[0m\u001b[32m\u001b[1mpolicy_based.py\u001b[0m\", line \u001b[33m612\u001b[0m, in \u001b[35m_update_with_trpo\u001b[0m\n",
      "    \u001b[1mnew_para\u001b[0m \u001b[35m\u001b[1m=\u001b[0m \u001b[1mself\u001b[0m\u001b[35m\u001b[1m.\u001b[0m\u001b[1m_linear_search\u001b[0m\u001b[1m(\u001b[0m\n",
      "    \u001b[36m           │    └ \u001b[0m\u001b[36m\u001b[1m<function PolicyNetTrainerWithTRPO._linear_search at 0x0000029B89266980>\u001b[0m\n",
      "    \u001b[36m           └ \u001b[0m\u001b[36m\u001b[1m<policy_based.PolicyNetTrainerWithTRPO object at 0x0000029B87ACA8D0>\u001b[0m\n",
      "\n",
      "  File \"\u001b[32mf:\\ws\\rf_learning\\\u001b[0m\u001b[32m\u001b[1mpolicy_based.py\u001b[0m\", line \u001b[33m550\u001b[0m, in \u001b[35m_linear_search\u001b[0m\n",
      "    \u001b[1mnew_action_dist\u001b[0m \u001b[35m\u001b[1m=\u001b[0m \u001b[1mtorch\u001b[0m\u001b[35m\u001b[1m.\u001b[0m\u001b[1mdistributions\u001b[0m\u001b[35m\u001b[1m.\u001b[0m\u001b[1mCategorical\u001b[0m\u001b[1m(\u001b[0m\u001b[1mx\u001b[0m\u001b[1m)\u001b[0m\n",
      "    \u001b[36m                  │     │             │           └ \u001b[0m\u001b[36m\u001b[1mtensor([[nan, nan],\u001b[0m\n",
      "    \u001b[36m                  │     │             │             \u001b[0m\u001b[36m\u001b[1m        [nan, nan],\u001b[0m\n",
      "    \u001b[36m                  │     │             │             \u001b[0m\u001b[36m\u001b[1m        [nan, nan],\u001b[0m\n",
      "    \u001b[36m                  │     │             │             \u001b[0m\u001b[36m\u001b[1m        [nan, nan],\u001b[0m\n",
      "    \u001b[36m                  │     │             │             \u001b[0m\u001b[36m\u001b[1m        [nan, nan],\u001b[0m\n",
      "    \u001b[36m                  │     │             │             \u001b[0m\u001b[36m\u001b[1m        [nan, nan],\u001b[0m\n",
      "    \u001b[36m                  │     │             │             \u001b[0m\u001b[36m\u001b[1m     ...\u001b[0m\n",
      "    \u001b[36m                  │     │             └ \u001b[0m\u001b[36m\u001b[1m<class 'torch.distributions.categorical.Categorical'>\u001b[0m\n",
      "    \u001b[36m                  │     └ \u001b[0m\u001b[36m\u001b[1m<module 'torch.distributions' from 'f:\\\\conda\\\\envs\\\\quant\\\\Lib\\\\site-packages\\\\torch\\\\distributions\\\\__init__.py'>\u001b[0m\n",
      "    \u001b[36m                  └ \u001b[0m\u001b[36m\u001b[1m<module 'torch' from 'f:\\\\conda\\\\envs\\\\quant\\\\Lib\\\\site-packages\\\\torch\\\\__init__.py'>\u001b[0m\n",
      "\n",
      "  File \"f:\\conda\\envs\\quant\\Lib\\site-packages\\torch\\distributions\\categorical.py\", line 70, in __init__\n",
      "    super().__init__(batch_shape, validate_args=validate_args)\n",
      "                     │                          └ None\n",
      "                     └ torch.Size([27])\n",
      "  File \"f:\\conda\\envs\\quant\\Lib\\site-packages\\torch\\distributions\\distribution.py\", line 69, in __init__\n",
      "    raise ValueError(\n",
      "\n",
      "\u001b[31m\u001b[1mValueError\u001b[0m:\u001b[1m Expected parameter probs (Tensor of shape (27, 2)) of distribution Categorical(probs: torch.Size([27, 2])) to satisfy the constraint Simplex(), but found invalid values:\n",
      "tensor([[nan, nan],\n",
      "        [nan, nan],\n",
      "        [nan, nan],\n",
      "        [nan, nan],\n",
      "        [nan, nan],\n",
      "        [nan, nan],\n",
      "        [nan, nan],\n",
      "        [nan, nan],\n",
      "        [nan, nan],\n",
      "        [nan, nan],\n",
      "        [nan, nan],\n",
      "        [nan, nan],\n",
      "        [nan, nan],\n",
      "        [nan, nan],\n",
      "        [nan, nan],\n",
      "        [nan, nan],\n",
      "        [nan, nan],\n",
      "        [nan, nan],\n",
      "        [nan, nan],\n",
      "        [nan, nan],\n",
      "        [nan, nan],\n",
      "        [nan, nan],\n",
      "        [nan, nan],\n",
      "        [nan, nan],\n",
      "        [nan, nan],\n",
      "        [nan, nan],\n",
      "        [nan, nan]], device='cuda:0', grad_fn=<DivBackward0>)\u001b[0m\n",
      "\u001b[1mINFO    \u001b[0m | \u001b[36mtrain_test_util\u001b[0m: - \u001b[1msaving model to: run\\model\\cartpoleV1\\AC\\AC.pth,\u001b[0m; \u001b[32m2024-07-09 01:43:21\u001b[0m \u001b[36mstart_train\u001b[0m:\u001b[36m76\u001b[0m\n"
     ]
    },
    {
     "name": "stderr",
     "output_type": "stream",
     "text": [
      "\n"
     ]
    }
   ],
   "source": [
    "start_train(\n",
    "    StandarTrainProcess(\n",
    "        trainer=policy_func_trainer,\n",
    "        model=policy_func,\n",
    "        train_epoch=TRAIN_EPOCH,\n",
    "        log_path=LOG_PATH,\n",
    "        model_path=MODEL_PATH\n",
    "    )\n",
    ")"
   ]
  },
  {
   "cell_type": "code",
   "execution_count": null,
   "metadata": {},
   "outputs": [],
   "source": []
  }
 ],
 "metadata": {
  "kernelspec": {
   "display_name": "quant",
   "language": "python",
   "name": "python3"
  },
  "language_info": {
   "codemirror_mode": {
    "name": "ipython",
    "version": 3
   },
   "file_extension": ".py",
   "mimetype": "text/x-python",
   "name": "python",
   "nbconvert_exporter": "python",
   "pygments_lexer": "ipython3",
   "version": "3.11.9"
  }
 },
 "nbformat": 4,
 "nbformat_minor": 2
}
